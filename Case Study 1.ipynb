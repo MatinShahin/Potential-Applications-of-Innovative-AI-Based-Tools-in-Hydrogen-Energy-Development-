{
 "cells": [
  {
   "cell_type": "markdown",
   "metadata": {},
   "source": [
    "**Case study 1: Optimization of hydrogen production processes**"
   ]
  },
  {
   "cell_type": "code",
   "execution_count": null,
   "metadata": {},
   "outputs": [],
   "source": [
    "import matplotlib.pyplot as plt\n",
    "import numpy as np\n",
    "\n",
    "# Data\n",
    "methods = ['Alkaline Electrolysis', 'PEM Electrolysis', 'Solid Oxide Electrolysis']\n",
    "energy_consumption = [55, 60, 45]\n",
    "hydrogen_yield = [8, 10, 12]\n",
    "operational_costs = [5.5, 6, 4.5]\n",
    "\n",
    "# Parameters\n",
    "x = np.arange(len(methods))\n",
    "width = 0.2  # width of the bars\n",
    "\n",
    "# Create the figure with a larger size\n",
    "fig, ax1 = plt.subplots(figsize=(8,5))\n",
    "\n",
    "# Plot energy consumption\n",
    "ax1.set_xlabel('Electrolysis Method')\n",
    "ax1.set_ylabel('Energy Consumption (kWh/kg H₂)', color='tab:blue')\n",
    "bars1 = ax1.bar(x - width, energy_consumption, width, label='Energy Consumption', color='tab:blue')\n",
    "ax1.tick_params(axis='y', labelcolor='tab:blue')\n",
    "\n",
    "# Create a second y-axis for hydrogen yield\n",
    "ax2 = ax1.twinx()\n",
    "ax2.set_ylabel('Hydrogen Yield (kg H₂/hour)', color='tab:green')\n",
    "bars2 = ax2.bar(x, hydrogen_yield, width, label='Hydrogen Yield', color='tab:green')\n",
    "ax2.tick_params(axis='y', labelcolor='tab:green')\n",
    "\n",
    "# Create a third y-axis for operational costs\n",
    "ax3 = ax1.twinx()\n",
    "ax3.set_ylabel('Operational Costs ($/kg H₂)', color='tab:red')\n",
    "bars3 = ax3.bar(x + width, operational_costs, width, label='Operational Costs', color='tab:red')\n",
    "ax3.tick_params(axis='y', labelcolor='tab:red')\n",
    "ax3.spines['right'].set_position(('outward', 60))  # move the third y-axis outward\n",
    "\n",
    "# Adjust legend positions\n",
    "fig.legend(loc='upper left', bbox_to_anchor=(1.1, 1))\n",
    "\n",
    "# Add title and adjust layout\n",
    "plt.title('Comparison of Electrolysis Methods for Hydrogen Production')\n",
    "fig.tight_layout()\n",
    "plt.xticks(x, methods)\n",
    "\n",
    "# Show plot\n",
    "plt.show() "
   ]
  }
 ],
 "metadata": {
  "kernelspec": {
   "display_name": "base",
   "language": "python",
   "name": "python3"
  },
  "language_info": {
   "name": "python",
   "version": "3.9.12"
  }
 },
 "nbformat": 4,
 "nbformat_minor": 2
}
